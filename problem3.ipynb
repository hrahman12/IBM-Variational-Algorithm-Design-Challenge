{
 "cells": [
  {
   "cell_type": "markdown",
   "metadata": {},
   "source": [
    "## Problem 3\n",
    "\n",
    "**Which of the following is true about variational algorithms?**\n",
    "\n",
    "1. The Variational Quantum Eigensolver is only useful for chemistry applications\n",
    "2. Variational algorithms only differ with the ansatz and observables selected\n",
    "3. Variational algorithms can leverage multiple primitives in a single cost function\n",
    "\n",
    "Place your all applicable answers in an array below"
   ]
  },
  {
   "cell_type": "code",
   "execution_count": 3,
   "metadata": {
    "tags": []
   },
   "outputs": [],
   "source": [
    "answers = [3]"
   ]
  },
  {
   "cell_type": "code",
   "execution_count": 4,
   "metadata": {
    "tags": []
   },
   "outputs": [
    {
     "name": "stdout",
     "output_type": "stream",
     "text": [
      "Submitting your answer. Please wait...\n",
      "All answers are correct\n",
      "Your score is 1.\n"
     ]
    }
   ],
   "source": [
    "from qc_grader.challenges.algorithm_design import grade_problem_3\n",
    "\n",
    "grade_problem_3(answers)"
   ]
  },
  {
   "cell_type": "markdown",
   "metadata": {},
   "source": [
    "[View your progress and continue to the next exercise](https://challenges.quantum-computing.ibm.com/algorithm-design#problem-3)"
   ]
  }
 ],
 "metadata": {
  "kernelspec": {
   "display_name": "Python 3 (ipykernel)",
   "language": "python",
   "name": "python3"
  },
  "language_info": {
   "codemirror_mode": {
    "name": "ipython",
    "version": 3
   },
   "file_extension": ".py",
   "mimetype": "text/x-python",
   "name": "python",
   "nbconvert_exporter": "python",
   "pygments_lexer": "ipython3",
   "version": "3.10.8"
  },
  "widgets": {
   "application/vnd.jupyter.widget-state+json": {
    "state": {},
    "version_major": 2,
    "version_minor": 0
   }
  }
 },
 "nbformat": 4,
 "nbformat_minor": 4
}
