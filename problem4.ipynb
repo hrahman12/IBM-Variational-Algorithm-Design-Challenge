{
 "cells": [
  {
   "cell_type": "markdown",
   "metadata": {},
   "source": [
    "## Problem 4\n",
    "\n",
    "**Which of the following Qiskit Runtime primitives `options` can be used to trade-off speed and accuracy?**\n",
    "\n",
    "1. `noise_model`\n",
    "2. `optimization_level`\n",
    "3. `resilience_level`\n",
    "4. `observables`\n",
    "\n",
    "Place your all applicable answers in an array below"
   ]
  },
  {
   "cell_type": "code",
   "execution_count": 7,
   "metadata": {
    "tags": []
   },
   "outputs": [],
   "source": [
    "answers = [2,3]"
   ]
  },
  {
   "cell_type": "code",
   "execution_count": 8,
   "metadata": {
    "tags": []
   },
   "outputs": [
    {
     "name": "stdout",
     "output_type": "stream",
     "text": [
      "Submitting your answer. Please wait...\n",
      "All answers are correct\n",
      "Your score is 1.\n"
     ]
    }
   ],
   "source": [
    "from qc_grader.challenges.algorithm_design import grade_problem_4\n",
    "\n",
    "grade_problem_4(answers)"
   ]
  },
  {
   "cell_type": "markdown",
   "metadata": {},
   "source": [
    "[View your progress and continue to the next exercise](https://challenges.quantum-computing.ibm.com/algorithm-design#problem-5)"
   ]
  }
 ],
 "metadata": {
  "kernelspec": {
   "display_name": "Python 3 (ipykernel)",
   "language": "python",
   "name": "python3"
  },
  "language_info": {
   "codemirror_mode": {
    "name": "ipython",
    "version": 3
   },
   "file_extension": ".py",
   "mimetype": "text/x-python",
   "name": "python",
   "nbconvert_exporter": "python",
   "pygments_lexer": "ipython3",
   "version": "3.10.8"
  },
  "widgets": {
   "application/vnd.jupyter.widget-state+json": {
    "state": {},
    "version_major": 2,
    "version_minor": 0
   }
  }
 },
 "nbformat": 4,
 "nbformat_minor": 4
}
