{
 "cells": [
  {
   "cell_type": "markdown",
   "metadata": {},
   "source": [
    "## Problem 2\n",
    "\n",
    "This problem has two parts that cover concepts about reference states, variational forms, and ansatz.\n",
    "\n",
    "\n",
    "### Problem 2a\n",
    "\n",
    "Define any valid reference operator using `TwoLocal`\n",
    "\n",
    "<details>\n",
    "    <summary>Hint</summary>\n",
    "    You might want to use `assign_parameters`\n",
    "</details>"
   ]
  },
  {
   "cell_type": "code",
   "execution_count": 1,
   "metadata": {},
   "outputs": [
    {
     "name": "stdout",
     "output_type": "stream",
     "text": [
      "Submitting your answer. Please wait...\n",
      "Congratulations 🎉! Your answer is correct and has been submitted.\n",
      "Your score is 1.\n"
     ]
    }
   ],
   "source": [
    "from qiskit.circuit.library import TwoLocal\n",
    "from qc_grader.challenges.algorithm_design import grade_problem_2a\n",
    "\n",
    "# Create a TwoLocal circuit with 3 qubits, using Y-rotations (\"ry\") and controlled-Z gates (\"cz\")\n",
    "reference_operator = TwoLocal(3, \"ry\", \"cz\", entanglement=\"linear\", reps=1)\n",
    "\n",
    "# Define specific parameter values for the reference operator\n",
    "# We can choose any values we want, for example, [0.1, 0.2, 0.3, 0.4, 0.5, 0.6] for the parameter list\n",
    "parameters = [0.1, 0.2, 0.3, 0.4, 0.5, 0.6]\n",
    "\n",
    "# Assign the specific parameter values to the reference_operator\n",
    "reference_operator = reference_operator.assign_parameters(parameters)\n",
    "\n",
    "# Grade the answer\n",
    "grade_problem_2a(reference_operator)\n"
   ]
  },
  {
   "cell_type": "markdown",
   "metadata": {},
   "source": [
    "### Problem 2b\n",
    "\n",
    "Using your reference operator from 2a, and the variational form provided below, create an ansatz.\n",
    "\n",
    "<details>\n",
    "    <summary>Hint</summary>\n",
    "    You might want to use `compose`\n",
    "</details>"
   ]
  },
  {
   "cell_type": "code",
   "execution_count": 2,
   "metadata": {},
   "outputs": [
    {
     "name": "stdout",
     "output_type": "stream",
     "text": [
      "Submitting your answer. Please wait...\n",
      "Congratulations 🎉! Your answer is correct and has been submitted.\n",
      "Your score is 1.\n"
     ]
    }
   ],
   "source": [
    "from qiskit.circuit.library import TwoLocal\n",
    "from qc_grader.challenges.algorithm_design import grade_problem_2b\n",
    "\n",
    "# Use the reference operator from Problem 2a\n",
    "# Make sure you have defined and assigned the reference_operator as done in Problem 2a\n",
    "# Create a TwoLocal circuit with 3 qubits, using Y-rotations (\"ry\") and controlled-Z gates (\"cz\")\n",
    "reference_operator = TwoLocal(3, \"ry\", \"cz\", entanglement=\"linear\", reps=1)\n",
    "\n",
    "# Define specific parameter values for the reference operator\n",
    "# We can choose any values we want, for example, [0.1, 0.2, 0.3, 0.4, 0.5, 0.6] for the parameter list\n",
    "parameters = [0.1, 0.2, 0.3, 0.4, 0.5, 0.6]\n",
    "\n",
    "# Assign the specific parameter values to the reference_operator\n",
    "reference_operator = reference_operator.assign_parameters(parameters)\n",
    "\n",
    "# Define the provided variational_form\n",
    "variational_form = TwoLocal(3, rotation_blocks=[\"rx\", \"rz\"], entanglement_blocks=\"cx\")\n",
    "\n",
    "# Create the ansatz by composing the reference_operator with the variational_form\n",
    "ansatz = reference_operator.compose(variational_form)\n",
    "\n",
    "# Grade the answer\n",
    "grade_problem_2b(reference_operator, variational_form, ansatz)\n"
   ]
  },
  {
   "cell_type": "markdown",
   "metadata": {},
   "source": [
    "[View your progress and continue to the next exercise](https://challenges.quantum-computing.ibm.com/algorithm-design#problem-3)"
   ]
  }
 ],
 "metadata": {
  "kernelspec": {
   "display_name": "Python 3 (ipykernel)",
   "language": "python",
   "name": "python3"
  },
  "language_info": {
   "codemirror_mode": {
    "name": "ipython",
    "version": 3
   },
   "file_extension": ".py",
   "mimetype": "text/x-python",
   "name": "python",
   "nbconvert_exporter": "python",
   "pygments_lexer": "ipython3",
   "version": "3.10.8"
  },
  "widgets": {
   "application/vnd.jupyter.widget-state+json": {
    "state": {},
    "version_major": 2,
    "version_minor": 0
   }
  }
 },
 "nbformat": 4,
 "nbformat_minor": 4
}
